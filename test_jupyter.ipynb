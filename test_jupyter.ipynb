{
 "cells": [
  {
   "cell_type": "code",
   "execution_count": null,
   "source": [
    "from re import finditer\r\n",
    "from pyperclip import copy\r\n",
    "\r\n",
    "def titlecase(contents : str):\r\n",
    "    return contents.title()\r\n",
    "\r\n",
    "str = \"Hello there good sir {titlecase how do you do}\"\r\n",
    "\r\n",
    "def formatter(contents : str):\r\n",
    "    functions = {\r\n",
    "        \"titlecase\" : titlecase,\r\n",
    "    }\r\n",
    "    format_dict = {}\r\n",
    "    formattables = finditer(r'\\{([\\w \\d/]+)\\}', contents)\r\n",
    "    for i in formattables:\r\n",
    "        func = i.groups()[0].split()[0]\r\n",
    "        output = functions[func](\" \".join(i.groups()[0].split()[1:]))\r\n",
    "        format_dict[i.groups()[0]] = output\r\n",
    "    \r\n",
    "    converted = contents.format(**format_dict)\r\n",
    "    return converted\r\n",
    "\r\n",
    "print(formatter(str))\r\n",
    "copy(None)"
   ],
   "outputs": [],
   "metadata": {}
  },
  {
   "cell_type": "code",
   "execution_count": 8,
   "source": [
    "# instructions = {\r\n",
    "#     \"translate\": translate,\r\n",
    "#     \"sarcasm\": sarcasm,\r\n",
    "#     \"spacer\": spacer,\r\n",
    "#     \"spoilerspam\": spoilerspam,\r\n",
    "#     \"copypaste\": copypaste,\r\n",
    "#     \"cp\": copypaste,\r\n",
    "#     \"emojify\": emojify,\r\n",
    "#     \"spam\": spambot,\r\n",
    "#     \"extend\": extend,\r\n",
    "#     \"autoclick\": autoclick,\r\n",
    "#     \"tapemouse\": tapemouse,\r\n",
    "#     \"exponent\": exponent,\r\n",
    "#     \"ep\": exponent,\r\n",
    "#     \"title\": titlecase,\r\n",
    "#     \"titlecase\": titlecase,\r\n",
    "#     \"cursive\": cursive,\r\n",
    "#     \"fraction\": fraction,\r\n",
    "#     \"fc\": fraction,\r\n",
    "#     \"flip\": flipped,\r\n",
    "#     \"upside-down\": flipped,\r\n",
    "#     \"superscript\": exponent,\r\n",
    "#     \"encrypt\": encrypt,\r\n",
    "#     \"decrypt\": decrypt,\r\n",
    "#     \"reverse\" : reverse,\r\n",
    "#     \"arrowmouse\" : arrowmouse,\r\n",
    "#     \"alarm\" : alarm,\r\n",
    "#     \"seizure\" : seizure,\r\n",
    "#     \"format\" : formatter\r\n",
    "# }\r\n",
    "# from importlib import import_module\r\n",
    "mod = __import__(\"functions\")\r\n",
    "print(getattr(mod, \"reverse\")(\"hello there\"))"
   ],
   "outputs": [
    {
     "output_type": "stream",
     "name": "stdout",
     "text": [
      "ereht olleh\n"
     ]
    }
   ],
   "metadata": {}
  }
 ],
 "metadata": {
  "orig_nbformat": 4,
  "language_info": {
   "name": "python",
   "version": "3.9.4",
   "mimetype": "text/x-python",
   "codemirror_mode": {
    "name": "ipython",
    "version": 3
   },
   "pygments_lexer": "ipython3",
   "nbconvert_exporter": "python",
   "file_extension": ".py"
  },
  "kernelspec": {
   "name": "python3",
   "display_name": "Python 3.9.4 64-bit"
  },
  "interpreter": {
   "hash": "247ab06e135bb35fa78c5eff31b2a9a0050dcb5fb773c2631d2a29ac689eeccb"
  }
 },
 "nbformat": 4,
 "nbformat_minor": 2
}