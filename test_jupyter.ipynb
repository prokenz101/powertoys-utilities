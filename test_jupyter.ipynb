{
 "cells": [
  {
   "cell_type": "code",
   "execution_count": null,
   "metadata": {},
   "outputs": [],
   "source": [
    "from re import finditer\n",
    "from pyperclip import copy\n",
    "\n",
    "def titlecase(contents : str):\n",
    "    return contents.title()\n",
    "\n",
    "str = \"Hello there good sir {titlecase how do you do}\"\n",
    "\n",
    "def formatter(contents : str):\n",
    "    functions = {\n",
    "        \"titlecase\" : titlecase,\n",
    "    }\n",
    "    format_dict = {}\n",
    "    formattables = finditer(r'\\{([\\w \\d/]+)\\}', contents)\n",
    "    for i in formattables:\n",
    "        func = i.groups()[0].split()[0]\n",
    "        output = functions[func](\" \".join(i.groups()[0].split()[1:]))\n",
    "        format_dict[i.groups()[0]] = output\n",
    "    \n",
    "    converted = contents.format(**format_dict)\n",
    "    return converted\n",
    "\n",
    "print(formatter(str))\n",
    "copy(None)"
   ]
  },
  {
   "cell_type": "code",
   "execution_count": null,
   "metadata": {},
   "outputs": [],
   "source": [
    "from pynput.keyboard import Key, Controller\n",
    "\n",
    "keyboard = Controller()\n",
    "with keyboard.pressed(Key.ctrl):\n",
    "    keyboard.press(\"v\")\n",
    "    keyboard.release(\"v\")"
   ]
  },
  {
   "cell_type": "code",
   "execution_count": 2,
   "metadata": {},
   "outputs": [
    {
     "name": "stdout",
     "output_type": "stream",
     "text": [
      "bap\n"
     ]
    }
   ],
   "source": [
    "from pynput.keyboard import Key, Controller\n",
    "import pyperclip3\n",
    "\n",
    "#call(f\"echo skip | xclip -selection clipboard\", shell=True)\n",
    "try:\n",
    "    pyperclip3.copy(\"bap\")\n",
    "except TypeError as e:\n",
    "    print(e)\n",
    "print(pyperclip3.paste().decode(\"utf-8\"))\n",
    "\n",
    "keyboard = Controller()\n",
    "with keyboard.pressed(Key.ctrl):\n",
    "    keyboard.press(\"v\")\n",
    "    keyboard.release(\"v\")"
   ]
  }
 ],
 "metadata": {
  "interpreter": {
   "hash": "247ab06e135bb35fa78c5eff31b2a9a0050dcb5fb773c2631d2a29ac689eeccb"
  },
  "kernelspec": {
   "display_name": "Python 3.9.4 64-bit",
   "name": "python3"
  },
  "language_info": {
   "codemirror_mode": {
    "name": "ipython",
    "version": 3
   },
   "file_extension": ".py",
   "mimetype": "text/x-python",
   "name": "python",
   "nbconvert_exporter": "python",
   "pygments_lexer": "ipython3",
   "version": "3.8.10"
  },
  "orig_nbformat": 4
 },
 "nbformat": 4,
 "nbformat_minor": 2
}
